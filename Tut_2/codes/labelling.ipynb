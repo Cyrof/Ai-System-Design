{
 "cells": [
  {
   "cell_type": "markdown",
   "metadata": {},
   "source": [
    "# Image labelling (YOLO format)\n",
    "\n",
    "## Import necessary libraries "
   ]
  },
  {
   "cell_type": "code",
   "execution_count": null,
   "metadata": {},
   "outputs": [],
   "source": [
    "import os \n",
    "import glob "
   ]
  },
  {
   "cell_type": "markdown",
   "metadata": {},
   "source": [
    "## Label creation function for images "
   ]
  },
  {
   "cell_type": "code",
   "execution_count": null,
   "metadata": {},
   "outputs": [],
   "source": [
    "def create_yolo_labels(image_folder, class_id):\n",
    "    for img_path in glob.glob(os.path.join(image_folder, '*.jpg')):\n",
    "        # create label file path \n",
    "        label_path = os.path.join(image_folder, os.path.basename(img_path).replace('.jpg', '.txt'))\n",
    "\n",
    "        # write the class label asusming full image\n",
    "        # center the image\n",
    "        x_center = 0.5\n",
    "        y_center = 0.5\n",
    "        bbox_width = 1.0 # full width \n",
    "        bbox_height = 1.0 # full height\n",
    "\n",
    "        # write to file \n",
    "        with open(label_path, 'w') as f: \n",
    "            f.write(f\"{class_id} {x_center} {y_center} {bbox_width} {bbox_height}\\n\")"
   ]
  },
  {
   "cell_type": "markdown",
   "metadata": {},
   "source": [
    "## Create labels for images "
   ]
  },
  {
   "cell_type": "code",
   "execution_count": null,
   "metadata": {},
   "outputs": [],
   "source": [
    "base_path = './Knife_vs_Pistol'\n",
    "classes = {'Knife': 0, 'Pistol': 1}\n",
    "\n",
    "# create label for knife \n",
    "create_yolo_labels(os.path.join(base_path, \"Knife\"), classes['Knife'])\n",
    "\n",
    "# create label for pistol\n",
    "create_yolo_labels(os.path.join(base_path, \"Pistol\"), classes['Pistol'])\n",
    "\n",
    "# create label for knife validation \n",
    "create_yolo_labels(os.path.join(base_path, \"eval_Knife\"), classes['Knife'])\n",
    "\n",
    "# create label for pistol validation \n",
    "create_yolo_labels(os.path.join(base_path, \"eval_pistol\"), classes['Pistol'])"
   ]
  }
 ],
 "metadata": {
  "language_info": {
   "name": "python"
  }
 },
 "nbformat": 4,
 "nbformat_minor": 4
}
