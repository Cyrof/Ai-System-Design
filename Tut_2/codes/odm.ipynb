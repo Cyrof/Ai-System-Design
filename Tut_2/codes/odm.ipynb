{
 "cells": [
  {
   "cell_type": "markdown",
   "metadata": {},
   "source": [
    "# Object Detection Module Using Pre-Trained Networks for Security Systems\n",
    "This module demonstrates how to implement an object detection system using Ultralytics' YOLOv5, a pre-trained network model for security purposes. The system will detect potentially hazardous objects, such as knives, guns, or fire, and can be integrated into a larger security framework to enhance monitoring and threat detection."
   ]
  },
  {
   "cell_type": "markdown",
   "metadata": {},
   "source": [
    "## Import required packages"
   ]
  },
  {
   "cell_type": "code",
   "execution_count": null,
   "metadata": {},
   "outputs": [],
   "source": [
    "import torch \n",
    "import matplotlib.pyplot as plt\n",
    "from ultralytics import YOLO\n",
    "import cv2\n",
    "import os\n",
    "import yaml"
   ]
  },
  {
   "cell_type": "markdown",
   "metadata": {},
   "source": [
    "## Load the Pre-Trained YOLOv5 Model\n",
    "**YOLOv5s** (small version) will be used for object detection. Other versions like `yolov5m.pt` for medium, or `yolov5x.pt` for extra large can be choosen instead."
   ]
  },
  {
   "cell_type": "code",
   "execution_count": null,
   "metadata": {},
   "outputs": [],
   "source": [
    "# load the YOLOv5 model\n",
    "model = YOLO('yolov8n.pt')"
   ]
  },
  {
   "cell_type": "markdown",
   "metadata": {},
   "source": [
    "## Create YAML File for Fine-Tuning"
   ]
  },
  {
   "cell_type": "code",
   "execution_count": null,
   "metadata": {},
   "outputs": [],
   "source": [
    "def create_yaml():\n",
    "    # create yaml file to fine tune model \n",
    "    data = {\n",
    "        # 'path': f'{os.path.abspath(os.path.join(os.getcwd(), os.pardir))}/fine-tune-dataset',\n",
    "        'train': f'{os.path.abspath(os.path.join(os.getcwd(), os.pardir))}/codes/fine-tune-dataset/datasets/train',\n",
    "        'val': f'{os.path.abspath(os.path.join(os.getcwd(), os.pardir))}/codes/fine-tune-dataset/datasets/val',\n",
    "        'nc': 2,\n",
    "        'names': ['knife', 'pistol'],\n",
    "    }\n",
    "    \n",
    "    \n",
    "    with open('fine-tune.yaml', 'w+') as f:\n",
    "    \n",
    "        yaml.dump(data, f)"
   ]
  },
  {
   "cell_type": "markdown",
   "metadata": {},
   "source": [
    "## Fine-Tune the Model\n",
    "Function to fine tune the YOLOv8n model with knife and gun images. Tuned model will be save to save time since it is computationally intensive.\n",
    "\n",
    "**NOTE** </br>\n",
    "The `device=0` parameter in **line 3** below is used only if pytorch is setup with cuda. If it is not setup to use cuda do remove."
   ]
  },
  {
   "cell_type": "code",
   "execution_count": null,
   "metadata": {},
   "outputs": [],
   "source": [
    "def fine_tune_model():\n",
    "    create_yaml()\n",
    "    model.train(data=f'{os.path.abspath(os.path.join(os.getcwd(), os.pardir))}/codes/fine-tune.yaml', epochs=50, imgsz=640, batch=16, device=0)\n",
    "    model.save('yolo_fine_tuned.pt')\n",
    "    print(\"Model fine-tunning complete. Model saved as 'yolo_fine_tuned.pt'.\")"
   ]
  },
  {
   "cell_type": "markdown",
   "metadata": {},
   "source": [
    "## Load the Fine-Tuned Model"
   ]
  },
  {
   "cell_type": "code",
   "execution_count": null,
   "metadata": {},
   "outputs": [],
   "source": [
    "def load_model():\n",
    "    model = YOLO('yolo_fine_tuned.pt')\n",
    "    return model"
   ]
  },
  {
   "cell_type": "markdown",
   "metadata": {},
   "source": [
    "## Evaluate the Model "
   ]
  },
  {
   "cell_type": "code",
   "execution_count": null,
   "metadata": {},
   "outputs": [],
   "source": [
    "def evaluate_model(model):\n",
    "    results = model.val(data=f'{os.path.abspath(os.path.join(os.getcwd(), os.pardir))}/codes/fine-tune.yaml')\n",
    "    print(results.box.maps)"
   ]
  },
  {
   "cell_type": "markdown",
   "metadata": {},
   "source": [
    "## Perform Object Detection on an image\n",
    "This section will load an image and run the object detection model. the model will automatically annotate the image with bounding boxes and class labels for each detected object."
   ]
  },
  {
   "cell_type": "code",
   "execution_count": null,
   "metadata": {},
   "outputs": [],
   "source": [
    "def detect_hazardous_obj(model, img_path, output_dir='./detected_imgs'):\n",
    "    # perform object detection\n",
    "    results = model(img_path)\n",
    "\n",
    "    # retrieve the annotated image (with bounding boxes and labels)\n",
    "    annotated_img = results[0].plot()\n",
    "\n",
    "    # display the image\n",
    "    plt.imshow(annotated_img)\n",
    "    plt.axis('off')\n",
    "    plt.show()\n",
    "\n",
    "    # Save the annotated image\n",
    "    os.makedirs(output_dir, exist_ok=True)\n",
    "    output_path = os.path.join(output_dir, 'annotated_img.jpg')\n",
    "    cv2.imwrite(output_path, annotated_img)\n",
    "    print(f\"Annotated image saved as '{output_path}'.\")\n",
    "    "
   ]
  },
  {
   "cell_type": "markdown",
   "metadata": {},
   "source": [
    "## Example Usage"
   ]
  },
  {
   "cell_type": "code",
   "execution_count": null,
   "metadata": {},
   "outputs": [],
   "source": [
    "# Fine-tune the model (uncomment this to fine tune the yolo model)\n",
    "# fine_tune_model()\n",
    "\n",
    "# load the fine-tuned model\n",
    "model = load_model()\n",
    "\n",
    "create_yaml()\n",
    "# evaluate the model \n",
    "evaluate_model(model)\n",
    "\n",
    "# path to the image to be tested\n",
    "img_path = './test_imgs/guy_w_gun.jpg'\n",
    "\n",
    "# detect hazardous objects in the test image\n",
    "detect_hazardous_obj(model, img_path)"
   ]
  }
 ],
 "metadata": {
  "language_info": {
   "name": "python"
  }
 },
 "nbformat": 4,
 "nbformat_minor": 4
}
