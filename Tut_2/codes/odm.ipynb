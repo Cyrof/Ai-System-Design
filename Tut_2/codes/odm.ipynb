{
 "cells": [
  {
   "cell_type": "markdown",
   "metadata": {},
   "source": [
    "# Object Detection Module Using Pre-Trained Networks for Security Systems\n",
    "This module demonstrates how to implement an object detection system using Ultralytics' YOLOv5, a pre-trained network model for security purposes. The system will detect potentially hazardous objects, such as knives, guns, or fire, and can be integrated into a larger security framework to enhance monitoring and threat detection."
   ]
  },
  {
   "cell_type": "markdown",
   "metadata": {},
   "source": [
    "## Import required packages"
   ]
  },
  {
   "cell_type": "code",
   "execution_count": null,
   "metadata": {},
   "outputs": [],
   "source": [
    "import torch \n",
    "import matplotlib.pyplot as plt\n",
    "from ultralytics import YOLO\n",
    "import cv2\n",
    "import os\n",
    "import yaml"
   ]
  },
  {
   "cell_type": "markdown",
   "metadata": {},
   "source": [
    "## Load the Pre-Trained YOLOv5 Model\n",
    "**YOLOv5s** (small version) will be used for object detection. Other versions like `yolov5m.pt` for medium, or `yolov5x.pt` for extra large can be choosen instead."
   ]
  },
  {
   "cell_type": "code",
   "execution_count": null,
   "metadata": {},
   "outputs": [],
   "source": [
    "# load the YOLOv5 model\n",
    "model = YOLO('yolov8n.pt')"
   ]
  },
  {
   "cell_type": "markdown",
   "metadata": {},
   "source": [
    "## Fine tune the modal with hazardous images"
   ]
  },
  {
   "cell_type": "code",
   "execution_count": null,
   "metadata": {},
   "outputs": [],
   "source": [
    "# create yaml file to fine tune model \n",
    "data = {\n",
    "    # 'path': f'{os.path.abspath(os.path.join(os.getcwd(), os.pardir))}/fine-tune-dataset',\n",
    "    'train': f'{os.path.abspath(os.path.join(os.getcwd(), os.pardir))}/codes/datasets/train',\n",
    "    'val': f'{os.path.abspath(os.path.join(os.getcwd(), os.pardir))}/codes/datasets/val',\n",
    "    'nc': 2,\n",
    "    'names': ['knife', 'pistol'],\n",
    "}\n",
    "\n",
    "\n",
    "with open('fine-tune.yaml', 'w+') as f:\n",
    "    yaml.dump(data, f)\n",
    "\n",
    "#model.train(data='./fine-tune.yaml', epochs=50, imgsz=640, batch=16)"
   ]
  },
  {
   "cell_type": "code",
   "execution_count": null,
   "metadata": {},
   "outputs": [],
   "source": [
    "model.train(data=f'{os.path.abspath(os.path.join(os.getcwd(), os.pardir))}/codes/fine-tune.yaml', epochs=50, imgsz=640, batch=16)\n",
    "model.save('yolo_fine_tuned.py')"
   ]
  },
  {
   "cell_type": "markdown",
   "metadata": {},
   "source": [
    "## Perform Object Detection on an image\n",
    "This section will load an image and run the object detection model. the model will automatically annotate the image with bounding boxes and class labels for each detected object."
   ]
  },
  {
   "cell_type": "code",
   "execution_count": null,
   "metadata": {},
   "outputs": [],
   "source": [
    "# Path to the image\n",
    "img_path = './test_imgs/knife.jpg'\n",
    "\n",
    "# perform object detection \n",
    "results = model(img_path)\n",
    "\n",
    "# retrieve the annotated image (with bounding boxes and labels) \n",
    "annotated_img = results[0].plot()\n",
    "\n",
    "# display image\n",
    "plt.imshow(annotated_img)\n",
    "plt.axis('off')\n",
    "plt.show()\n",
    "\n",
    "\n",
    "# save the image with detected objects\n",
    "output_dir = './detected_imgs'\n",
    "os.makedirs(output_dir, exist_ok=True)\n",
    "output_path = os.path.join(output_dir, 'annotated_img.jpg')\n",
    "\n",
    "cv2.imwrite(output_path, annotated_img)\n"
   ]
  }
 ],
 "metadata": {
  "language_info": {
   "name": "python"
  }
 },
 "nbformat": 4,
 "nbformat_minor": 4
}
