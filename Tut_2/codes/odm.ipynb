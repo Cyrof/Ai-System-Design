{
 "cells": [
  {
   "cell_type": "markdown",
   "metadata": {},
   "source": [
    "# Object Detectiuon Module Using Pre-Trained Networks for Security Systems\n",
    "This notebook shows an object detection module using pre-trained networks such as **ResNet50** for feature extraction and **YOLOv3** for object detection. The module is designed to detect hazardous objects (e.g., knives, guns, fire) that can be integrated into a security system for real-time monitorign or image analysis."
   ]
  },
  {
   "cell_type": "markdown",
   "metadata": {},
   "source": [
    "## Import required packages"
   ]
  },
  {
   "cell_type": "code",
   "execution_count": null,
   "metadata": {},
   "outputs": [],
   "source": [
    "# import numpy as np\n",
    "import tensorflow as tf\n",
    "# from tensorflow.keras.applications import ResNet50\n",
    "# from tensorflow.keras.applications.resnet50 import preprocess_input\n",
    "# from tensorflow.keras.preprocessing import image\n",
    "# from tensorflow.keras.models import Model\n",
    "# import matplotlib.pyplot as plt\n",
    "# import cv2\n",
    "\n"
   ]
  },
  {
   "cell_type": "code",
   "execution_count": null,
   "metadata": {},
   "outputs": [],
   "source": []
  }
 ],
 "metadata": {
  "language_info": {
   "name": "python"
  }
 },
 "nbformat": 4,
 "nbformat_minor": 4
}
