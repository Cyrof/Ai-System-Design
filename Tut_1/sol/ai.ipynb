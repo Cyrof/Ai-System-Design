{
 "cells": [
  {
   "cell_type": "markdown",
   "metadata": {},
   "source": [
    "# Ai Model\n",
    "This notebook contains an implementation of a Support Vector Machine (SVM) model to classify rice species based on specific attributes. The dataset is initially provided in an Excel format and converted to CSV format for easier manipulation using the Pandas library. SVM uses GridSearchCV for hyperparameter tuning and k-fold cross-validation to find the best model parameters.\n",
    "### Import all required packages"
   ]
  },
  {
   "cell_type": "code",
   "execution_count": 9,
   "metadata": {},
   "outputs": [],
   "source": [
    "import pandas as pd \n",
    "import os "
   ]
  },
  {
   "cell_type": "markdown",
   "metadata": {},
   "source": [
    "### Conversion function \n",
    "This function converts the given Excel dataset to CSV format for easier loading and processing with Pandas."
   ]
  },
  {
   "cell_type": "code",
   "execution_count": 11,
   "metadata": {},
   "outputs": [],
   "source": [
    "def convert_do_csv(filePath):\n",
    "    \"\"\"\n",
    "    Converts an Excel file to a CSV file.\n",
    "    Parameters: \n",
    "    filePath (str): Path to the Excel file.\n",
    "\n",
    "    Returns: \n",
    "    None\n",
    "    \"\"\"\n",
    "    data = pd.read_excel(filePath)\n",
    "    newPath = os.path.join(os.path.dirname(filePath), 'output.csv')\n",
    "    data.to_csv(newPath, index=False)\n",
    "    print(\"Conversion successful\")"
   ]
  },
  {
   "cell_type": "code",
   "execution_count": 12,
   "metadata": {},
   "outputs": [],
   "source": [
    "# set the path to the dataset directory and the Excel file \n",
    "PATH = f\"{os.path.abspath(os.path.join(os.getcwd(), os.pardir))}\"\n",
    "excelPath = os.path.join(PATH, \"Rice_Dataset_Commeo_and_Osmancik/Rice_Cammeo_Osmancik.xlsx\")\n",
    "\n",
    "# uncomment the line below to run the conversioon function if needed\n",
    "# convert_do_csv(filePath)"
   ]
  },
  {
   "cell_type": "markdown",
   "metadata": {},
   "source": [
    "### SVM Model \n",
    "Import the required pacakges for the SVM model and model evaluation. The model will use a pipeline to preprocess the data and train the SVM classifier."
   ]
  },
  {
   "cell_type": "code",
   "execution_count": 4,
   "metadata": {},
   "outputs": [],
   "source": [
    "from sklearn.svm import SVC\n",
    "from sklearn.model_selection import GridSearchCV, StratifiedKFold\n",
    "from sklearn.preprocessing import StandardScaler\n",
    "from sklearn.pipeline import Pipeline\n",
    "from sklearn.metrics import classification_report, accuracy_score"
   ]
  },
  {
   "cell_type": "code",
   "execution_count": 13,
   "metadata": {},
   "outputs": [
    {
     "name": "stdout",
     "output_type": "stream",
     "text": [
      "Best Hyperparameters: {'svc__C': 10, 'svc__gamma': 'scale', 'svc__kernel': 'linear'}\n",
      "Best Cross-Validation Accuracy: 0.93\n"
     ]
    }
   ],
   "source": [
    "# Load the dataset from the CSV file\n",
    "csv_path = os.path.join(PATH, \"Rice_Dataset_Commeo_and_Osmancik/output.csv\")\n",
    "\n",
    "# Get data from csv file and split into feature matrix and target vector\n",
    "rice_df = pd.read_csv(csv_path, index_col=0)\n",
    "X = rice_df.drop(columns=[\"Class\"])\n",
    "Y = rice_df[\"Class\"]\n",
    "\n",
    "# Create a pipeline for preprocessing and model training\n",
    "pipeline = Pipeline([\n",
    "    ('scaler', StandardScaler()),\n",
    "    ('svc', SVC())\n",
    "])\n",
    "\n",
    "# Define the hyperparameter grid for grid search\n",
    "param_grid = {\n",
    "    'svc__kernel': ['linear', 'rbf', 'poly'], # different types of kernels\n",
    "    'svc__C': [0.1, 1, 10, 100], # Regularization parameter\n",
    "    'svc__gamma': ['scale', 'auto', 0.001, 0.01, 0.1, 1] # kernel coefficient\n",
    "}\n",
    "\n",
    "# set up stratified k-fold cross-validation\n",
    "cv = StratifiedKFold(n_splits=5, shuffle=True, random_state=42)\n",
    "\n",
    "# initialise GridSearchCV to search for the best hyperparameters\n",
    "grid_search = GridSearchCV(pipeline, param_grid, cv=cv, scoring='accuracy', n_jobs=-1)\n",
    "\n",
    "grid_search.fit(X, Y)\n",
    "\n",
    "print(f\"Best Hyperparameters: {grid_search.best_params_}\")\n",
    "\n",
    "print(f\"Best Cross-Validation Accuracy: {grid_search.best_score_:.2f}\")\n"
   ]
  },
  {
   "cell_type": "code",
   "execution_count": 14,
   "metadata": {},
   "outputs": [
    {
     "name": "stdout",
     "output_type": "stream",
     "text": [
      "              precision    recall  f1-score   support\n",
      "\n",
      "      Cammeo       0.92      0.92      0.92      1630\n",
      "    Osmancik       0.94      0.94      0.94      2180\n",
      "\n",
      "    accuracy                           0.93      3810\n",
      "   macro avg       0.93      0.93      0.93      3810\n",
      "weighted avg       0.93      0.93      0.93      3810\n",
      "\n"
     ]
    }
   ],
   "source": [
    "# get the best model from grid search\n",
    "best_model = grid_search.best_estimator_\n",
    "\n",
    "# Use the best model to make prediction\n",
    "y_pred = best_model.predict(X)\n",
    "    \n",
    "print(classification_report(Y, y_pred))"
   ]
  },
  {
   "cell_type": "code",
   "execution_count": 15,
   "metadata": {},
   "outputs": [
    {
     "name": "stdout",
     "output_type": "stream",
     "text": [
      "Accuracy Score: 0.93\n"
     ]
    }
   ],
   "source": [
    "# calculate and print the accuracy score\n",
    "acc = accuracy_score(Y, y_pred)\n",
    "print(f\"Accuracy Score: {acc:.2f}\")"
   ]
  }
 ],
 "metadata": {
  "kernelspec": {
   "display_name": "Python (ai_tut)",
   "language": "python",
   "name": "ai_tut"
  },
  "language_info": {
   "codemirror_mode": {
    "name": "ipython",
    "version": 3
   },
   "file_extension": ".py",
   "mimetype": "text/x-python",
   "name": "python",
   "nbconvert_exporter": "python",
   "pygments_lexer": "ipython3",
   "version": "3.12.5"
  }
 },
 "nbformat": 4,
 "nbformat_minor": 4
}
