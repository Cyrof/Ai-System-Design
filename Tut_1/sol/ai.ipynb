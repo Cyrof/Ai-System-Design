{
 "cells": [
  {
   "cell_type": "markdown",
   "metadata": {},
   "source": [
    "# Ai Model\n",
    "This folder consist of SVM model to classify rice species. \n",
    "### Import all required packages"
   ]
  },
  {
   "cell_type": "code",
   "execution_count": 24,
   "metadata": {},
   "outputs": [],
   "source": [
    "import pandas as pd \n",
    "import os "
   ]
  },
  {
   "cell_type": "markdown",
   "metadata": {},
   "source": [
    "### Conversion function \n",
    "Convert given excel dataset to csv for pandas dataframe."
   ]
  },
  {
   "cell_type": "code",
   "execution_count": 25,
   "metadata": {},
   "outputs": [],
   "source": [
    "def convert_do_csv(filePath):\n",
    "    data = pd.read_excel(filePath)\n",
    "    newPath = os.path.join(os.path.dirname(filePath), 'output.csv')\n",
    "    data.to_csv(newPath, index=False)\n",
    "    print(\"Conversion successful\")"
   ]
  },
  {
   "cell_type": "code",
   "execution_count": 26,
   "metadata": {},
   "outputs": [],
   "source": [
    "PATH = f\"{os.path.abspath(os.path.join(os.getcwd(), os.pardir))}\"\n",
    "excelPath = os.path.join(PATH, \"Rice_Dataset_Commeo_and_Osmancik/Rice_Cammeo_Osmancik.xlsx\")\n",
    "\n",
    "# convert_do_csv(filePath)"
   ]
  },
  {
   "cell_type": "markdown",
   "metadata": {},
   "source": [
    "### SVM Model \n",
    "Import required packages for svm"
   ]
  },
  {
   "cell_type": "code",
   "execution_count": 27,
   "metadata": {},
   "outputs": [],
   "source": [
    "from sklearn.svm import SVC\n",
    "from sklearn.model_selection import GridSearchCV, StratifiedKFold\n",
    "from sklearn.preprocessing import StandardScaler\n",
    "from sklearn.pipeline import Pipeline\n",
    "from sklearn.metrics import classification_report, accuracy_score"
   ]
  },
  {
   "cell_type": "code",
   "execution_count": 36,
   "metadata": {},
   "outputs": [
    {
     "name": "stdout",
     "output_type": "stream",
     "text": [
      "Best Hyperparameters: {'svc__C': 10, 'svc__gamma': 'scale', 'svc__kernel': 'linear'}\n",
      "Best Cross-Validation Accuracy: 0.93\n",
      "              precision    recall  f1-score   support\n",
      "\n",
      "      Cammeo       0.92      0.92      0.92      1630\n",
      "    Osmancik       0.94      0.94      0.94      2180\n",
      "\n",
      "    accuracy                           0.93      3810\n",
      "   macro avg       0.93      0.93      0.93      3810\n",
      "weighted avg       0.93      0.93      0.93      3810\n",
      "\n"
     ]
    }
   ],
   "source": [
    "csv_path = os.path.join(PATH, \"Rice_Dataset_Commeo_and_Osmancik/output.csv\")\n",
    "\n",
    "# Get data from csv file and split into feature matrix and target vector\n",
    "rice_df = pd.read_csv(csv_path, index_col=0)\n",
    "X = rice_df.drop(columns=[\"Class\"])\n",
    "Y = rice_df[\"Class\"]\n",
    "\n",
    "pipeline = Pipeline([\n",
    "    ('scaler', StandardScaler()),\n",
    "    ('svc', SVC())\n",
    "])\n",
    "\n",
    "param_grid = {\n",
    "    'svc__kernel': ['linear', 'rbf', 'poly'],\n",
    "    'svc__C': [0.1, 1, 10, 100],\n",
    "    'svc__gamma': ['scale', 'auto', 0.001, 0.01, 0.1, 1]\n",
    "}\n",
    "\n",
    "cv = StratifiedKFold(n_splits=5, shuffle=True, random_state=42)\n",
    "\n",
    "grid_search = GridSearchCV(pipeline, param_grid, cv=cv, scoring='accuracy', n_jobs=-1)\n",
    "\n",
    "grid_search.fit(X, Y)\n",
    "\n",
    "print(f\"Best Hyperparameters: {grid_search.best_params_}\")\n",
    "\n",
    "print(f\"Best Cross-Validation Accuracy: {grid_search.best_score_:.2f}\")\n",
    "\n",
    "best_model = grid_search.best_estimator_\n",
    "\n",
    "y_pred = best_model.predict(X)\n",
    "\n",
    "print(classification_report(Y, y_pred))"
   ]
  }
 ],
 "metadata": {
  "kernelspec": {
   "display_name": "Python (ai_tut)",
   "language": "python",
   "name": "ai_tut"
  },
  "language_info": {
   "codemirror_mode": {
    "name": "ipython",
    "version": 3
   },
   "file_extension": ".py",
   "mimetype": "text/x-python",
   "name": "python",
   "nbconvert_exporter": "python",
   "pygments_lexer": "ipython3",
   "version": "3.12.5"
  }
 },
 "nbformat": 4,
 "nbformat_minor": 4
}
